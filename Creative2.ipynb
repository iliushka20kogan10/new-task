{
  "nbformat": 4,
  "nbformat_minor": 0,
  "metadata": {
    "colab": {
      "provenance": []
    },
    "kernelspec": {
      "name": "python3",
      "display_name": "Python 3"
    },
    "language_info": {
      "name": "python"
    }
  },
  "cells": [
    {
      "cell_type": "markdown",
      "source": [
        "##Первая задача: Модель телефона\n",
        "В классе 7В мальчики очень интересуются моделями телефонов одноклассников. Помогите им подсчитать, сколько телефонов различных моделей есть у учеников их класса.\n",
        "###Входные данные\n",
        "-Количество учеников\n",
        "\n",
        "-Модель телефона и имя ученика (на разных строчках)\n",
        "###Выходные данные\n",
        "-Модель телефона - количество\n",
        "##Пример\n",
        "-Ввод1-\n",
        "        \n",
        "        5\n",
        "\n",
        "-Ввод2-\n",
        "         \n",
        "         айфон\n",
        "         Вася\n",
        "         самсунг\n",
        "         Оля\n",
        "         редми\n",
        "         Саша\n",
        "         айфон\n",
        "         Максим\n",
        "         редми\n",
        "         Ваня\n",
        "\n",
        "-Вывод-\n",
        "          \n",
        "          айфон - 2\n",
        "          самсунг - 1\n",
        "          редми - 2"
      ],
      "metadata": {
        "id": "NJNQif2vo_yv"
      }
    },
    {
      "cell_type": "code",
      "source": [
        "n = int(input())\n",
        "phones = dict()\n",
        "values = []\n",
        "for i in range(n):\n",
        "  phones[input()] = input()\n",
        "for i in phones.values():\n",
        "  values.append(i)\n",
        "for i in set(phones.values()):\n",
        "  print(i, values.count(i))"
      ],
      "metadata": {
        "colab": {
          "base_uri": "https://localhost:8080/"
        },
        "id": "FyaSZHjiw9OO",
        "outputId": "b35a5282-6157-49fe-f612-701be62c4c36"
      },
      "execution_count": 10,
      "outputs": [
        {
          "output_type": "stream",
          "name": "stdout",
          "text": [
            "5\n",
            "айфон\n",
            "Миша\n",
            "самсунг\n",
            "Дима\n",
            "айфон\n",
            "Саша\n",
            "сяоми\n",
            "Аня\n",
            "самсунг\n",
            "Лёша\n",
            "айфон 2\n",
            "самсунг 2\n",
            "сяоми 1\n"
          ]
        }
      ]
    },
    {
      "cell_type": "markdown",
      "source": [
        "##Вторая задача: Еда\n",
        "Машка и Софья живут вместе. Однажды так случилось, что в холодильнике оказалось ровно по одной штуке каждой еды. Но Машка и Софья иногда хотят одно и тоже. Определите то, что им придётся поделить\n",
        "\n",
        "###Входные данные:\n",
        "  1. То, что хочет Машка\n",
        "  2. То, что хочет Софья\n",
        "  (всё через пробел + запятая)\n",
        "\n",
        "###Выходные данные:\n",
        "\n",
        "  -Общие желаемые продукты\n",
        "\n",
        "  (если их нет, вывести \"повезло\")\n",
        "\n",
        "##Пример:  \n",
        "\n",
        "-Ввод1-\n",
        "\n",
        "    Суп, манная каша, пицца\n",
        "\n",
        "-Ввод2-\n",
        "\n",
        "    Суп, яблочный сок, пирожок с капустой\n",
        "\n",
        "-Вывод-\n",
        "\n",
        "    Суп"
      ],
      "metadata": {
        "id": "9MdbXH_qHAH7"
      }
    },
    {
      "cell_type": "code",
      "source": [
        "a = set(input().split(', '))\n",
        "b = set(input().split(', '))\n",
        "if len(a&b) == 0:\n",
        "  print('повезло')\n",
        "else:\n",
        "  print(*(a&b))"
      ],
      "metadata": {
        "colab": {
          "base_uri": "https://localhost:8080/"
        },
        "id": "mPl0JPeIOsZq",
        "outputId": "ad58a761-b7fc-4ca7-9eb5-dfc3a50be551"
      },
      "execution_count": 15,
      "outputs": [
        {
          "output_type": "stream",
          "name": "stdout",
          "text": [
            "a, b\n",
            "c, d\n",
            "повезло\n"
          ]
        }
      ]
    }
  ]
}